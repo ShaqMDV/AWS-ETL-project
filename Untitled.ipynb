{
 "cells": [
  {
   "cell_type": "code",
   "execution_count": 6,
   "id": "7977ea06-7441-46cc-a84e-8461f58e78a7",
   "metadata": {},
   "outputs": [
    {
     "name": "stdout",
     "output_type": "stream",
     "text": [
      "   21/04/2024 09:00  Edinburgh        Jesse Franco  \\\n",
      "0  21/04/2024 09:01  Edinburgh        Rose Jackson   \n",
      "1  21/04/2024 09:03  Edinburgh       Albert Kenney   \n",
      "2  21/04/2024 09:05  Edinburgh       Carol Dickens   \n",
      "3  21/04/2024 09:07  Edinburgh        Brenda Avila   \n",
      "4  21/04/2024 09:09  Edinburgh  Gladys Vandenbosch   \n",
      "\n",
      "  Regular Flavoured iced latte - Hazelnut - 2.75, Large Speciality Tea - Green - 1.60  \\\n",
      "0  Large Speciality Tea - Green - 1.60, Regular S...                                    \n",
      "1       Large Flavoured iced latte - Hazelnut - 3.25                                    \n",
      "2          Regular Speciality Tea - Earl Grey - 1.30                                    \n",
      "3       Large Flavoured iced latte - Hazelnut - 3.25                                    \n",
      "4  Regular Americano - 1.95, Regular Speciality T...                                    \n",
      "\n",
      "   4.35  CASH    Unnamed: 6  \n",
      "0  3.60  CARD  8.032986e+15  \n",
      "1  3.25  CARD  4.067790e+15  \n",
      "2  1.30  CARD  3.634784e+15  \n",
      "3  3.25  CARD  4.461004e+15  \n",
      "4  7.55  CARD  5.179414e+15  \n"
     ]
    }
   ],
   "source": [
    "import pandas as pd\n",
    "\n",
    "\n",
    "data_path = \"./data/edinburgh_21-04-2024_09-00-00.csv\"\n",
    "\n",
    "data = pd.read_csv(data_path)\n",
    "\n",
    "print(data.head())"
   ]
  },
  {
   "cell_type": "code",
   "execution_count": null,
   "id": "a77152c9-9021-4f5d-a247-7c9eb517d81b",
   "metadata": {},
   "outputs": [],
   "source": []
  }
 ],
 "metadata": {
  "kernelspec": {
   "display_name": "Python 3 (ipykernel)",
   "language": "python",
   "name": "python3"
  },
  "language_info": {
   "codemirror_mode": {
    "name": "ipython",
    "version": 3
   },
   "file_extension": ".py",
   "mimetype": "text/x-python",
   "name": "python",
   "nbconvert_exporter": "python",
   "pygments_lexer": "ipython3",
   "version": "3.11.7"
  }
 },
 "nbformat": 4,
 "nbformat_minor": 5
}
